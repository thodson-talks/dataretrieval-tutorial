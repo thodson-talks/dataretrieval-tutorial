{
 "cells": [
  {
   "cell_type": "markdown",
   "id": "4593c4b5-6a1f-4d3b-b520-eb9d850f45c6",
   "metadata": {},
   "source": [
    "# dataretrieval Overview\n",
    "\n",
    "## What is dataretrieval?\n",
    "`dataretrieval` was created to simplify the process of loading hydrologic data into the Python environment.\n",
    "Like the original R version [`dataRetrieval`](https://github.com/DOI-USGS/dataRetrieval),\n",
    "it is designed to retrieve the major data types of U.S. Geological Survey (USGS) hydrology\n",
    "data that are available on the Web, as well as data from the Water\n",
    "Quality Portal (WQP), which currently houses water quality data from the\n",
    "Environmental Protection Agency (EPA), U.S. Department of Agriculture\n",
    "(USDA), and USGS.\n",
    "\n",
    "By the end of this tutorial, you should be comfortable using the `dataretrieval` package to query\n",
    "water data from USGS or the multi-agency Water Quality Portal. The tutorial also demonstrates several simple but versitile patterns for cleaning and visualizing those data.\n",
    "\n",
    "## R tutorial\n",
    "For those that prefer R, Laura DeCicco has a nice tutorial [here](https://code.usgs.gov/water/dataRetrieval/-/blob/main/vignettes/tutorial.Rmd?ref_type=heads).\n",
    "The content diverge at several points but the learning outcomes are similar.\n",
    "\n",
    "## Additional resources\n",
    "- [USGS Water Services (API ](https://waterservices.usgs.gov/)\n",
    "- [USGS Water Data API overview](https://waterdata.usgs.gov/blog/api_catalog/)\n",
    "- [National Water Dashboard](https://dashboard.waterdata.usgs.gov/app/nwd/en/)\n",
    "\n",
    "## Installation\n",
    "\n",
    "`dataretrieval` is available on the Python Package Index (PyPI).\n",
    "If it is not included in your Python environment, install it from PyPI\n",
    "\n",
    "```bash\n",
    "pip install dataretrieval\n",
    "```\n",
    "or `conda-forge`\n",
    "```bash\n",
    "conda install -c conda-forge dataretrieval\n",
    "```\n",
    "\n",
    "## NWIS module\n",
    "This notebook introduces the `dataretrieva.nwis` module, which contains functions for querying USGS's National Water Information System (NWIS).\n",
    "\n",
    "### Warning\n",
    "As of March 2024, all discrete water quality USGS data should be obtained from the Water Quality Portal (WQP). WQP retrievals will be covered below. Lots of changes are happening with USGS water quality data and Water Quality Portal data formatting.\n",
    "\n",
    "Begin by importing the `dataretrieval.nwis` module."
   ]
  },
  {
   "cell_type": "code",
   "execution_count": null,
   "id": "aab193e1-4ced-4e46-9e12-4e09a0a605e9",
   "metadata": {},
   "outputs": [],
   "source": [
    "from dataretrieval import nwis"
   ]
  },
  {
   "cell_type": "markdown",
   "id": "64a7f41e-19fc-4cbe-90ef-3417788f2a28",
   "metadata": {},
   "source": [
    "The user functions in the `nwis` module are prefixed with `get_`.\n",
    "The one exception is the  function `what_sites`, but it's just `get_info`\n",
    "\n",
    "To get a sense of what's available, we can list any function name including the strings 'get' or 'what':"
   ]
  },
  {
   "cell_type": "code",
   "execution_count": null,
   "id": "e10965e4-8927-4233-ae60-206578326e72",
   "metadata": {},
   "outputs": [],
   "source": [
    "[i  for i in dir(nwis) if 'get' in i or 'what' in i]"
   ]
  },
  {
   "cell_type": "markdown",
   "id": "75f4db7a-7e22-4ed3-a8cf-05bbb7174729",
   "metadata": {},
   "source": [
    "(note: we can view a function's doc using `help(nwis.get_dv)` or `nwis.get_dv?`"
   ]
  },
  {
   "cell_type": "code",
   "execution_count": null,
   "id": "f778f628-d232-4b82-9334-5c2a11cc95e5",
   "metadata": {},
   "outputs": [],
   "source": [
    "nwis.get_dv?"
   ]
  },
  {
   "cell_type": "markdown",
   "id": "f6cf19c1-1606-4cbc-821a-cf24004c6b93",
   "metadata": {},
   "source": [
    "## National Water Information System (NWIS)  Retrievals\n",
    "USGS water data is housed in the National Water Information System (NWIS). \n",
    "There are many types of data served from NWIS. \n",
    "NWIS serves several types of data, but before we dive into these services, it's helpful to understand some codes."
   ]
  },
  {
   "cell_type": "markdown",
   "id": "6e60c198-8aae-4560-846b-602c00130922",
   "metadata": {},
   "source": [
    "The USGS uses various codes for basic retrievals. These codes can have leading zeros, therefore in Python they need to be strings (\"01234567\").\n",
    "\n",
    "* Site ID (often 8 or 15-digits)\n",
    "* Parameter Code (5 digits)\n",
    "    + Full list: [https://nwis.waterdata.usgs.gov/usa/nwis/pmcodes](https://nwis.waterdata.usgs.gov/usa/nwis/pmcodes)\n",
    "    + Alternatively use `nwis.get_pmcodes(\"all\")`\n",
    "* Statistic Code (for daily values)\n",
    "    + Full list: [http://help.waterdata.usgs.gov/code/stat_cd_nm_query?stat_nm_cd=%25&fmt=html](http://help.waterdata.usgs.gov/code/stat_cd_nm_query?stat_nm_cd=%25&fmt=html)\n",
    "\n",
    "`dataretrieval` queries return data as a `pandas.DataFrame`,\n",
    "which is convenient for many types of analysis.\n",
    "However, a dataframes have limited support for metadata.\n",
    "As a result, `dataretrieval` functions typically return a tuple of two elements: the dataframe and its metadata."
   ]
  },
  {
   "cell_type": "code",
   "execution_count": null,
   "id": "3a0b44a7-5686-4d4c-8361-405889664d60",
   "metadata": {},
   "outputs": [],
   "source": [
    "df, meta = nwis.get_pmcodes(\"00060\"); df"
   ]
  },
  {
   "cell_type": "markdown",
   "id": "e4513e64-730a-4b79-94c7-4e6e4e8ab012",
   "metadata": {},
   "source": [
    "Here a few of the most common parameter codes\n",
    "\n",
    "| Code  | Name         |\n",
    "| ------| ------------ |\n",
    "|00060  | Discharge    |\n",
    "|00065  | Gage Height  |\n",
    "|00010\t| Temperature  |\n",
    "|00400\t| pH           |\n",
    "\n",
    "And here are a few common statistic codes\n",
    "\n",
    "| Code  | Name         |\n",
    "| ------| ------------ |\n",
    "|00001  | Maximum      |\n",
    "|00002  | Minimum      |\n",
    "|00003\t| Mean         |\n",
    "|00008\t| Median       |\n"
   ]
  },
  {
   "cell_type": "markdown",
   "id": "8b6df365-c974-4f11-93ab-2f3be866950e",
   "metadata": {},
   "source": [
    "The `nwis.get_pmcodes` function returns information on USGS parameter codes. \n",
    "You can use \"all\" to get a full list, then filter out those of interest."
   ]
  },
  {
   "cell_type": "code",
   "execution_count": null,
   "id": "fb3b9f6a-551e-427b-8059-e57265ad0019",
   "metadata": {},
   "outputs": [],
   "source": [
    "df, _ = nwis.get_pmcodes(\"all\")\n",
    "\n",
    "print(f\"There are {df.shape[0]} parameter codes\")"
   ]
  },
  {
   "cell_type": "markdown",
   "id": "9de89334-5d7b-4205-9930-05ccf27ca894",
   "metadata": {},
   "source": [
    "Here is one example to find all the phosphorous parameter codes:"
   ]
  },
  {
   "cell_type": "code",
   "execution_count": null,
   "id": "244b08b8-6966-49dd-aeb7-14769eb564eb",
   "metadata": {},
   "outputs": [],
   "source": [
    "df[df.parm_nm.str.contains('Phosphorus', case=False)].head(10)"
   ]
  },
  {
   "cell_type": "markdown",
   "id": "856d930c-0d80-4aea-b95a-e7553858c6d5",
   "metadata": {},
   "source": [
    "## Timeseries query\n"
   ]
  },
  {
   "cell_type": "code",
   "execution_count": null,
   "id": "2e38f15f-deaf-42e1-abd6-178797a430b7",
   "metadata": {},
   "outputs": [],
   "source": [
    "site = \"05427948\"\n",
    "pcode = \"00060\"\n",
    "start = \"2017-10-01\"\n",
    "end = \"2024-05-30\"\n",
    "\n",
    "\n",
    "df, meta = nwis.get_dv(\n",
    "    sites = site,\n",
    "    start = start,\n",
    "    end = end,\n",
    "    parameterCd = pcode, # kwarg passed to NWIS API\n",
    ")"
   ]
  },
  {
   "cell_type": "markdown",
   "id": "a22238f8-2964-420d-860a-fdfe66a85771",
   "metadata": {},
   "source": [
    "Unless your application requires high-frequency (sub daily) data,\n",
    "I recommend you start with daily values.\n",
    "- Daily datasets are smaller,faster to download, and consume less memory.\n",
    "- Instantaneous data commonly have more gaps necessitating extra processing,\n",
    "- Missing daily values are estimated and flagged with an 'e'.\n",
    "\n",
    "From the Pheasant Creek example, let’s look at the data."
   ]
  },
  {
   "cell_type": "code",
   "execution_count": null,
   "id": "1c29b711-5b25-441d-b865-690d3aa1513d",
   "metadata": {},
   "outputs": [],
   "source": [
    "df"
   ]
  },
  {
   "cell_type": "code",
   "execution_count": null,
   "id": "007e943f-c656-46cc-ab57-af5e886be3c9",
   "metadata": {},
   "outputs": [],
   "source": [
    "meta # the class _repr_ displays the query url"
   ]
  },
  {
   "cell_type": "markdown",
   "id": "1d3b01fc-d28a-4336-88be-1b2592d903f6",
   "metadata": {},
   "source": [
    "The metadata records the query url, which can be useful for debugging,\n",
    "as well as the date and time of the query."
   ]
  },
  {
   "cell_type": "code",
   "execution_count": null,
   "id": "6c60bd75-003d-4991-a653-03263343ffb4",
   "metadata": {},
   "outputs": [],
   "source": [
    "meta.header"
   ]
  },
  {
   "cell_type": "markdown",
   "id": "66209c4d-b9dd-4c9a-836e-e4cff8541de5",
   "metadata": {},
   "source": [
    "Now let's use `pandas` built-in plotting to visualize our query results."
   ]
  },
  {
   "cell_type": "code",
   "execution_count": null,
   "id": "32f8394e-db77-4a47-82c9-b73769a067c4",
   "metadata": {},
   "outputs": [],
   "source": [
    "df.plot()"
   ]
  },
  {
   "cell_type": "markdown",
   "id": "4a17c4d8-fbc0-45f5-aa63-4413163dcfdc",
   "metadata": {},
   "source": [
    "Uh oh. If your plot looks strange, you might filter the \"approved\" data"
   ]
  },
  {
   "cell_type": "code",
   "execution_count": null,
   "id": "f2cfb457-0f2d-45c7-a43f-50b64ce8e53c",
   "metadata": {},
   "outputs": [],
   "source": [
    "df.loc[~df['00060_Mean_cd'].str.contains('A')] = None\n",
    "df.plot()"
   ]
  },
  {
   "cell_type": "markdown",
   "id": "3717ae9c-7125-4be9-87de-119015dda012",
   "metadata": {},
   "source": [
    "Better!\n",
    "\n",
    "When doing some initial exploration, it's much nicer to have interactive plots. \n",
    "Python has a diverse plotting ecosystem.\n",
    "Most libraries will try to give a `matplotlib`-like experience. For example, `pandas` plotting uses `matplotlib` backend by default with many of the same arguments. \n",
    "For this reason, Python programmers generally learn `matplotlib` before experimenting with other libraries.\n",
    "But the other libraries are extremely good too. Here we'll demonstrate `hvplot` for interactive plotting, which has good integration with `pandas` and `xarray`."
   ]
  },
  {
   "cell_type": "code",
   "execution_count": null,
   "id": "189925d9-7a9b-431e-8681-d4bc83f52720",
   "metadata": {},
   "outputs": [],
   "source": [
    "import hvplot.pandas\n",
    "\n",
    "df.hvplot() # add the letters \"hv\"\n",
    "\n",
    "# or\n",
    "# pd.options.plotting.backend = \"holoviews\""
   ]
  },
  {
   "cell_type": "markdown",
   "id": "e05f03fe-f482-4468-9db9-93c8ccde67d4",
   "metadata": {},
   "source": [
    "Here's another common \"gotcha\":"
   ]
  },
  {
   "cell_type": "code",
   "execution_count": null,
   "id": "2b100465-887f-41f3-85cd-3c7920e63740",
   "metadata": {},
   "outputs": [],
   "source": [
    "from dataretrieval import nwis\n",
    "\n",
    "df, metadata = nwis.get_dv(site = '08271000', start='1900-01-01')\n",
    "df.plot()"
   ]
  },
  {
   "cell_type": "markdown",
   "id": "63aaa455-dcea-4ea2-9753-7292e3817d32",
   "metadata": {},
   "source": [
    "This record has gaps. To correct it, we populate those missing periods with nans.\n",
    "This is fairly easy for single sites:"
   ]
  },
  {
   "cell_type": "code",
   "execution_count": null,
   "id": "f2c98fe8-0fc7-44cc-8c0e-8905d05feadc",
   "metadata": {},
   "outputs": [],
   "source": [
    "# fill the missing data with nans\n",
    "df.asfreq(freq='D').plot()"
   ]
  },
  {
   "cell_type": "markdown",
   "id": "5a89893d-71b9-4e7b-a228-cb9f87ed2d67",
   "metadata": {},
   "source": [
    "But queries returning multiple sites are trickier. In fairness, `pandas.MultiIndex` can make simple tasks tricky in general."
   ]
  },
  {
   "cell_type": "code",
   "execution_count": null,
   "id": "dd8d172f-b1c5-49c6-8cad-e24a874b1198",
   "metadata": {},
   "outputs": [],
   "source": [
    "df, _ = nwis.get_dv(sites=[\"08271000\", \"08267500\"], parameterCd=\"00060\", start=\"1901-01-01\")\n",
    "df.head()"
   ]
  },
  {
   "cell_type": "markdown",
   "id": "7b3a1566-630c-4182-9f18-e2d5028b8c8b",
   "metadata": {},
   "source": [
    "For example, how would you go about nan-ing the multi-site dataframe?\n",
    "Can you find a solution to this \"simple\" problem?"
   ]
  },
  {
   "cell_type": "code",
   "execution_count": null,
   "id": "0d9ee363-8db6-4f74-bb37-16f530fc43b9",
   "metadata": {},
   "outputs": [],
   "source": [
    "# will return an error\n",
    "df.asfreq(freq='D')"
   ]
  },
  {
   "cell_type": "markdown",
   "id": "3ed2217e-e0b5-4c11-87b7-c585cf4def6a",
   "metadata": {},
   "source": [
    "## Query site information\n",
    "Sometimes we need metadata about a monitoring location.\n",
    "For this we can use `nwis.get_info` or `nwis.what_sites`,\n",
    "which are actually the same function with different names.\n",
    "\n",
    "We can pull metadata for a single location."
   ]
  },
  {
   "cell_type": "code",
   "execution_count": null,
   "id": "a0c8c8a5-5c31-41c7-8ac2-256fbd78ba92",
   "metadata": {},
   "outputs": [],
   "source": [
    "site = \"05407000\"\n",
    "df, meta = nwis.what_sites(sites=site)\n",
    "\n",
    "df"
   ]
  },
  {
   "cell_type": "markdown",
   "id": "800c42c6-ff06-4772-bb99-3f85cc7ea1ea",
   "metadata": {},
   "source": [
    "Or construct a multi-location query by providing list of site codes, a state code, or a bounding box.\n",
    "\n",
    "This query will return all stations with data on a particular parameter in one state."
   ]
  },
  {
   "cell_type": "code",
   "execution_count": null,
   "id": "6e9122db-4462-421f-b9ed-74d25de723cf",
   "metadata": {},
   "outputs": [],
   "source": [
    "state_cd = \"IL\"\n",
    "parameter_cd = \"00665\" # USGS code for total phosphorus\n",
    "df, meta = nwis.what_sites(\n",
    "    stateCd=state_cd, \n",
    "    parameterCd=parameter_cd,\n",
    ")"
   ]
  },
  {
   "cell_type": "markdown",
   "id": "7103e562-0c26-435c-9f8e-418f2a6d62a7",
   "metadata": {},
   "source": [
    "Just as a quick example, let's visualizing those sites on an interactive map."
   ]
  },
  {
   "cell_type": "code",
   "execution_count": null,
   "id": "9c868421-8cbb-434c-b1de-860f5db9be9c",
   "metadata": {},
   "outputs": [],
   "source": [
    "import geopandas as gpd\n",
    "import hvplot.pandas\n",
    "\n",
    "geometry = gpd.points_from_xy(df.dec_long_va, df.dec_lat_va)\n",
    "gdf = gpd.GeoDataFrame(df, geometry=geometry)\n",
    "\n",
    "gdf.hvplot.points(\n",
    "    geo=True,\n",
    "    hover_cols=[\"site_no\", \"station_nm\"],\n",
    "    tiles=True,\n",
    "    frame_width=300,\n",
    "    size=4,\n",
    ")"
   ]
  },
  {
   "cell_type": "markdown",
   "id": "b43e0ff1-4c92-4a3a-b6e5-8b49dec56255",
   "metadata": {},
   "source": [
    "A typical workflow might begin by downloading data from these sites.\n",
    "Think "
   ]
  },
  {
   "cell_type": "code",
   "execution_count": null,
   "id": "14916a12-045e-40f6-8295-e126bf8ee791",
   "metadata": {},
   "outputs": [],
   "source": [
    "df, _ = nwis.get_qwdata(df.site_no.to_list())"
   ]
  },
  {
   "cell_type": "markdown",
   "id": "ed113680-e493-4284-a5f0-3b0353f908f0",
   "metadata": {},
   "source": [
    "That query probably didn't work for you.\n",
    "In general, `dataretrieval` follows the KISS philosophy:\n",
    "we won't make up for limitations in the web service; that's up to you.\n",
    "In this case, we provide an error message with a pseudo-code solution,\n",
    "whereas `hyriver` would fix this behind the scenes.\n",
    "But QWData is going the way of the dinosaurs,\n",
    "and going forward you should be pulling these data from Water Quality Portal (WQP),\n",
    "which we demonstration in the next [notebook](./01-navigating-wqp.ipynb)."
   ]
  },
  {
   "cell_type": "markdown",
   "id": "a8af859e-2720-4f30-98e5-164ebede7316",
   "metadata": {},
   "source": [
    "Before moving on to WQP, let's investigate one more service and demonstrate how services can work in conjunction.\n",
    "\n",
    "Let's query the \"stats\" service for a particular streamgauge."
   ]
  },
  {
   "cell_type": "code",
   "execution_count": null,
   "id": "bd252df5-c85b-43ec-860a-74dd3c18eebd",
   "metadata": {},
   "outputs": [],
   "source": [
    "# feel free to \"Google\" your own gauge here: \"usgs discharge Illinois River\", etc.\n",
    "\n",
    "df, _ = nwis.get_stats(sites=\"03339000\")\n",
    "\n",
    "# list what parameters are measured at the gage\n",
    "df.parameter_cd.unique()"
   ]
  },
  {
   "cell_type": "markdown",
   "id": "a9431979-c9b7-42b4-a845-89c0e7f8216d",
   "metadata": {},
   "source": [
    "Here we list the parameter codes measured at this site.\n",
    "More on parameter codes (\"p codes\") later, but they can be cryptic.\n",
    "Fortunately, USGS has a web service for that. \n",
    "Let's use `nwis.get_pmcodes` to decipher them."
   ]
  },
  {
   "cell_type": "code",
   "execution_count": null,
   "id": "cc8849e2-a766-415c-8209-56f6c683bb35",
   "metadata": {},
   "outputs": [],
   "source": [
    "codes_df, _ = nwis.get_pmcodes(\n",
    "    df.parameter_cd.unique().tolist()\n",
    ")\n",
    "\n",
    "codes_df"
   ]
  },
  {
   "cell_type": "markdown",
   "id": "f534f241-5d12-4c0b-8335-1fb6b0e3cca1",
   "metadata": {},
   "source": [
    "That's better. Now select a parameter of interest, and we'll quickly plot it."
   ]
  },
  {
   "cell_type": "code",
   "execution_count": null,
   "id": "443b1459-9eb6-4476-9cb6-0e49142de3a6",
   "metadata": {},
   "outputs": [],
   "source": [
    "parameter = \"99133\" # nitrate\n",
    "parm_df = df[df[\"parameter_cd\"] == parameter].reset_index(drop=True)\n",
    "parm_df"
   ]
  },
  {
   "cell_type": "code",
   "execution_count": null,
   "id": "53ce5eb1-1491-4928-b068-5fcbf33ccb43",
   "metadata": {},
   "outputs": [],
   "source": [
    "parm_df[[\"mean_va\",\"p20_va\",\"p80_va\"]].plot()"
   ]
  },
  {
   "cell_type": "markdown",
   "id": "75ec4a5a-ce5e-4163-aa44-b84c050ecdef",
   "metadata": {},
   "source": [
    "Try plotting a different parameter before we move on to the next notebook."
   ]
  }
 ],
 "metadata": {
  "kernelspec": {
   "display_name": "Python 3 (ipykernel)",
   "language": "python",
   "name": "python3"
  },
  "language_info": {
   "codemirror_mode": {
    "name": "ipython",
    "version": 3
   },
   "file_extension": ".py",
   "mimetype": "text/x-python",
   "name": "python",
   "nbconvert_exporter": "python",
   "pygments_lexer": "ipython3",
   "version": "3.12.3"
  }
 },
 "nbformat": 4,
 "nbformat_minor": 5
}
